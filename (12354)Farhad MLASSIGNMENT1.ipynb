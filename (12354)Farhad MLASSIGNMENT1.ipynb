{
  "nbformat": 4,
  "nbformat_minor": 0,
  "metadata": {
    "colab": {
      "provenance": []
    },
    "kernelspec": {
      "name": "python3",
      "display_name": "Python 3"
    },
    "language_info": {
      "name": "python"
    }
  },
  "cells": [
    {
      "cell_type": "code",
      "execution_count": 1,
      "metadata": {
        "colab": {
          "base_uri": "https://localhost:8080/"
        },
        "id": "vwOyqJCMnunV",
        "outputId": "b177c502-8a0d-4c31-8e17-c237dfae53af"
      },
      "outputs": [
        {
          "output_type": "stream",
          "name": "stdout",
          "text": [
            "Headline: Contents\n",
            "Details: \n",
            "---\n",
            "Headline: Visa requirements map\n",
            "Details: \n",
            "---\n",
            "Headline: Visa requirements\n",
            "Details: The chart below outlines the visa requirements for Pakistani Ordinary passport holders. eVisa or Online visa indicates that a visa may be granted online electronic visas universally to all applicants who are accepted, without needing to attend an interview or Embassy to collect the visa before travel. The information is collected using the instructions on official Embassy / Consulate websites, Ministry of Foreign Affairs of these nations, as well as data from the International Air Transport Association (IATA) Timatic database containing documentation requirements for passengers traveling internationally via air, e.g. passport and visa requirements. It is important that all travelers double-check with the references, secondary sources and/or their airline before departing on a journey for additional requirements.\n",
            "---\n",
            "Headline: External territories, or Restricted territories\n",
            "Details: External territories, Restricted territories or destinations, and Autonomous zones may have separate entry protocols or require permits for Pakistani citizens to enter. These destinations are part of and governed by other nations and mostly require a visa for the nation that they are attributed to. Some of these external territories have different laws or are geographically located far away from the nation that they are governed by so they may require more than 1 entry permit or they may have special visa waiver agreements. It is important that visitors check any possible restrictions with the relevant authorities before travel plan confirmation.\n",
            "---\n",
            "Headline: Non-Visa restrictions\n",
            "Details: \n",
            "---\n",
            "Headline: See also\n",
            "Details: \n",
            "---\n",
            "Headline: References and Notes\n",
            "Details: \n",
            "---\n"
          ]
        }
      ],
      "source": [
        "import requests\n",
        "from bs4 import BeautifulSoup\n",
        "\n",
        "url = 'https://en.wikipedia.org/wiki/Visa_requirements_for_Pakistani_citizens'\n",
        "response = requests.get(url)\n",
        "soup = BeautifulSoup(response.text, 'html.parser')\n",
        "\n",
        "headline_elements = soup.find_all('h2')\n",
        "\n",
        "for headline in headline_elements:\n",
        "    headline_text = headline.text.strip()\n",
        "\n",
        "    details_tag = headline.find_next_sibling()\n",
        "\n",
        "    details_text = \"\"\n",
        "    if details_tag.name == 'p':\n",
        "        details_text = details_tag.text.strip()\n",
        "\n",
        "    print(f\"Headline: {headline_text}\")\n",
        "    print(f\"Details: {details_text}\")\n",
        "    print(\"---\")"
      ]
    }
  ]
}